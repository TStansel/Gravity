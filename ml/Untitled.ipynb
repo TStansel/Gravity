{
 "cells": [
  {
   "cell_type": "code",
   "execution_count": 3,
   "metadata": {},
   "outputs": [
    {
     "data": {
      "text/plain": [
       "[1.0,\n",
       " 0.9939990885479664,\n",
       " 0.9852446755537787,\n",
       " 0.9589266029707683,\n",
       " 0.8541079218877135]"
      ]
     },
     "execution_count": 3,
     "metadata": {},
     "output_type": "execute_result"
    }
   ],
   "source": [
    "from scipy import spatial\n",
    "\n",
    "new_question = [1, 2, 3, 4]\n",
    "old_questions = [\n",
    "    [1, 2, 3, 4],\n",
    "    [1, 2, 3, 5],\n",
    "    [2, 2, 3, 4],\n",
    "    [1, 4, 5, 4],\n",
    "    [1, 8, 3, 30]\n",
    "]\n",
    "\n",
    "def cos_similarity(v1, v2):\n",
    "    return (1 - spatial.distance.cosine(v1, v2))\n",
    "\n",
    "list(map(lambda v2: cos_similarity(new_question, v2), old_questions))"
   ]
  },
  {
   "cell_type": "code",
   "execution_count": 25,
   "metadata": {},
   "outputs": [],
   "source": [
    "import json\n",
    "import numpy as np\n",
    "event = json.loads('''{\n",
    "  \"payload\": {\n",
    "    \"new_question\": [1, 2, 3, 4, 5],\n",
    "    \"old_questions\": [\n",
    "      {\"id\": 1,\n",
    "      \"vec\": [1, 2, 3, 4, 6]},\n",
    "      {\"id\": 2,\n",
    "      \"vec\": [1, 2, 6, 4, 6]}\n",
    "    ]\n",
    "  }\n",
    "}''')"
   ]
  },
  {
   "cell_type": "code",
   "execution_count": 50,
   "metadata": {},
   "outputs": [],
   "source": [
    "\n",
    "\n",
    "def lambda_handler(event=None, context=None):\n",
    "  new_question = event[\"payload\"][\"new_question\"]\n",
    "  old_questions = event[\"payload\"][\"old_questions\"]\n",
    "  \n",
    "  similarities = np.array(list(map(lambda old_question: cosine_similarity(new_question, old_question[\"vec\"]), old_questions)))\n",
    "  top_10_idx = similarities.argsort()[-10:][::-1]\n",
    "\n",
    "  print(similarities)\n",
    "  print(top_10_idx)\n",
    "\n",
    "  return json.dumps(list(map(lambda idx: {\"uuid\": old_questions[idx][\"id\"], \"similarity\": similarities[idx]}, top_10_idx)))\n",
    "\n",
    "def cosine_similarity(v1, v2):\n",
    "  return np.dot(v1, v2)/(np.linalg.norm(v1)*np.linalg.norm(v2))"
   ]
  },
  {
   "cell_type": "code",
   "execution_count": 11,
   "metadata": {},
   "outputs": [
    {
     "data": {
      "text/plain": [
       "[1, 2, 3, 4, 5]"
      ]
     },
     "execution_count": 11,
     "metadata": {},
     "output_type": "execute_result"
    }
   ],
   "source": [
    "event[\"payload\"][\"new_question\"]"
   ]
  },
  {
   "cell_type": "code",
   "execution_count": 22,
   "metadata": {},
   "outputs": [
    {
     "data": {
      "text/plain": [
       "[{'id': 1, 'vec': [1, 2, 3, 4, 6]}, {'id': 2, 'vec': [1, 2, 6, 4, 6]}]"
      ]
     },
     "execution_count": 22,
     "metadata": {},
     "output_type": "execute_result"
    }
   ],
   "source": [
    "list(event[\"payload\"][\"old_questions\"])"
   ]
  },
  {
   "cell_type": "code",
   "execution_count": 45,
   "metadata": {},
   "outputs": [
    {
     "name": "stdout",
     "output_type": "stream",
     "text": [
      "[0.9958592  0.96477551]\n",
      "[0 1]\n"
     ]
    },
    {
     "data": {
      "text/plain": [
       "'[{\"uuid\": 1, \"similarity\": 0.9958591954639384}, {\"uuid\": 2, \"similarity\": 0.9647755121562243}]'"
      ]
     },
     "execution_count": 45,
     "metadata": {},
     "output_type": "execute_result"
    }
   ],
   "source": [
    "lambda_handler(event)"
   ]
  },
  {
   "cell_type": "code",
   "execution_count": 51,
   "metadata": {},
   "outputs": [
    {
     "name": "stdout",
     "output_type": "stream",
     "text": [
      "[0.9958592  0.96477551]\n",
      "[0 1]\n"
     ]
    },
    {
     "data": {
      "text/plain": [
       "'[{\"uuid\": 1, \"similarity\": 0.9958591954639383}, {\"uuid\": 2, \"similarity\": 0.9647755121562244}]'"
      ]
     },
     "execution_count": 51,
     "metadata": {},
     "output_type": "execute_result"
    }
   ],
   "source": [
    "lambda_handler(event)"
   ]
  },
  {
   "cell_type": "code",
   "execution_count": null,
   "metadata": {},
   "outputs": [],
   "source": []
  }
 ],
 "metadata": {
  "kernelspec": {
   "display_name": "Python 3",
   "language": "python",
   "name": "python3"
  },
  "language_info": {
   "codemirror_mode": {
    "name": "ipython",
    "version": 3
   },
   "file_extension": ".py",
   "mimetype": "text/x-python",
   "name": "python",
   "nbconvert_exporter": "python",
   "pygments_lexer": "ipython3",
   "version": "3.8.3"
  }
 },
 "nbformat": 4,
 "nbformat_minor": 4
}
